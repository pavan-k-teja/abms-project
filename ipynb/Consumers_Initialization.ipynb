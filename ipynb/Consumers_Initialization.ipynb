{
 "cells": [
  {
   "cell_type": "markdown",
   "id": "8801dc44",
   "metadata": {},
   "source": [
    "## Consumers Initialization"
   ]
  },
  {
   "cell_type": "code",
   "execution_count": 1,
   "id": "45cf3641",
   "metadata": {
    "ExecuteTime": {
     "end_time": "2021-12-16T03:16:25.675183Z",
     "start_time": "2021-12-16T03:16:24.390086Z"
    }
   },
   "outputs": [],
   "source": [
    "import numpy as np\n",
    "import pandas as pd\n",
    "import matplotlib.pyplot as plt\n",
    "import seaborn as sns"
   ]
  },
  {
   "cell_type": "markdown",
   "id": "0be12edc",
   "metadata": {
    "ExecuteTime": {
     "end_time": "2021-12-04T11:17:10.202610Z",
     "start_time": "2021-12-04T11:17:09.240901Z"
    }
   },
   "source": [
    "## INCOME"
   ]
  },
  {
   "cell_type": "code",
   "execution_count": null,
   "id": "8ef389e7",
   "metadata": {
    "ExecuteTime": {
     "end_time": "2021-12-06T13:22:55.719860Z",
     "start_time": "2021-12-06T13:22:54.493765Z"
    }
   },
   "outputs": [],
   "source": [
    "income = pd.cut(pd.DataFrame(np.random.normal(loc = 74800, scale = 27300, size = 10000000))[0], \n",
    "                bins = 500, precision = 0).value_counts()\n",
    "\n",
    "lower_bound = []\n",
    "upper_bound = []\n",
    "for i in income.index.values:\n",
    "    lower_bound.append(i.left)\n",
    "    upper_bound.append(i.right)\n",
    "    \n",
    "lower_bound   = np.array(lower_bound)\n",
    "upper_bound   = np.array(upper_bound)\n",
    "choosen_range = ((lower_bound >= 15000).astype(int) * (income.values > 0).astype(int)).astype(bool)\n",
    "lower_bound   = lower_bound[choosen_range]\n",
    "upper_bound   = upper_bound[choosen_range]\n",
    "income_count  = income.values[choosen_range]\n",
    "\n",
    "# pd.DataFrame({\"lower_bound\" : lower_bound, \n",
    "#               \"upper_bound\" : upper_bound, \n",
    "#               \"income_count\": income_count}).to_csv(\"income.csv\", index = False)\n",
    "income_df = pd.DataFrame({\"lower_bound\" : lower_bound, \n",
    "                          \"upper_bound\" : upper_bound, \n",
    "                          \"income_count\": income_count})"
   ]
  },
  {
   "cell_type": "markdown",
   "id": "1774237b",
   "metadata": {
    "ExecuteTime": {
     "end_time": "2021-12-04T11:17:10.202610Z",
     "start_time": "2021-12-04T11:17:09.240901Z"
    }
   },
   "source": [
    "## MILES TRAVELED"
   ]
  },
  {
   "cell_type": "code",
   "execution_count": null,
   "id": "8ff79eef",
   "metadata": {
    "ExecuteTime": {
     "end_time": "2021-12-06T13:22:57.224223Z",
     "start_time": "2021-12-06T13:22:55.989577Z"
    }
   },
   "outputs": [],
   "source": [
    "miles = pd.cut(pd.DataFrame(np.random.normal(loc = 11836, scale = 6377, size = 10000000))[0], \n",
    "                bins = 500, precision = 0).value_counts()\n",
    "\n",
    "lower_bound = []\n",
    "upper_bound = []\n",
    "for i in miles.index.values:\n",
    "    lower_bound.append(i.left)\n",
    "    upper_bound.append(i.right)\n",
    "    \n",
    "lower_bound   = np.array(lower_bound)\n",
    "upper_bound   = np.array(upper_bound)\n",
    "choosen_range = ((lower_bound >= 15000).astype(int) * (miles.values > 0).astype(int)).astype(bool)\n",
    "lower_bound   = lower_bound[choosen_range]\n",
    "upper_bound   = upper_bound[choosen_range]\n",
    "miles_count  = miles.values[choosen_range]\n",
    "\n",
    "# pd.DataFrame({\"lower_bound\" : lower_bound, \n",
    "#               \"upper_bound\" : upper_bound, \n",
    "#               \"miles_count\" : miles_count}).to_csv(\"miles.csv\", index = False)\n",
    "miles_df = pd.DataFrame({\"lower_bound\" : lower_bound, \n",
    "                           \"upper_bound\" : upper_bound, \n",
    "                           \"miles_count\" : miles_count})"
   ]
  },
  {
   "cell_type": "markdown",
   "id": "706fe0c8",
   "metadata": {},
   "source": [
    "---"
   ]
  },
  {
   "cell_type": "code",
   "execution_count": 2,
   "id": "d178c9c9",
   "metadata": {
    "ExecuteTime": {
     "end_time": "2021-12-14T12:43:11.309848Z",
     "start_time": "2021-12-14T12:43:10.457791Z"
    }
   },
   "outputs": [],
   "source": [
    "NUM_OBSERVATIONS = 10000000\n",
    "MIN_INCOME = 12076\n",
    "MIN_MILES = 0\n",
    "df = pd.DataFrame(index=range(NUM_OBSERVATIONS), columns=['INCOME', 'MILES'])"
   ]
  },
  {
   "cell_type": "code",
   "execution_count": 3,
   "id": "313ad590",
   "metadata": {
    "ExecuteTime": {
     "end_time": "2021-12-14T13:05:36.468094Z",
     "start_time": "2021-12-14T12:43:11.330851Z"
    }
   },
   "outputs": [],
   "source": [
    "count = 0\n",
    "income_list = []\n",
    "miles_list = []\n",
    "while count < NUM_OBSERVATIONS:\n",
    "    income = int(np.random.normal(loc = 74800, scale = 27300))\n",
    "    miles  = int(np.random.normal(loc = 11836, scale = 6377))\n",
    "    if income > MIN_INCOME and miles > MIN_MILES:\n",
    "        df.loc[count, \"INCOME\"] = income\n",
    "        df.loc[count, \"MILES\"] = miles\n",
    "        count = count + 1"
   ]
  },
  {
   "cell_type": "code",
   "execution_count": 4,
   "id": "a4b2c6f9",
   "metadata": {
    "ExecuteTime": {
     "end_time": "2021-12-14T13:05:51.525088Z",
     "start_time": "2021-12-14T13:05:36.485098Z"
    }
   },
   "outputs": [],
   "source": [
    "df.to_csv(\"income_miles_\" + str(NUM_OBSERVATIONS) + \".csv\", index=False)"
   ]
  },
  {
   "cell_type": "code",
   "execution_count": null,
   "id": "347b21a6",
   "metadata": {},
   "outputs": [],
   "source": []
  }
 ],
 "metadata": {
  "hide_input": false,
  "kernelspec": {
   "display_name": "Python 3",
   "language": "python",
   "name": "python3"
  },
  "language_info": {
   "codemirror_mode": {
    "name": "ipython",
    "version": 3
   },
   "file_extension": ".py",
   "mimetype": "text/x-python",
   "name": "python",
   "nbconvert_exporter": "python",
   "pygments_lexer": "ipython3",
   "version": "3.9.5"
  },
  "toc": {
   "base_numbering": 1,
   "nav_menu": {},
   "number_sections": true,
   "sideBar": true,
   "skip_h1_title": false,
   "title_cell": "Table of Contents",
   "title_sidebar": "Contents",
   "toc_cell": false,
   "toc_position": {},
   "toc_section_display": true,
   "toc_window_display": true
  },
  "varInspector": {
   "cols": {
    "lenName": 16,
    "lenType": 16,
    "lenVar": 40
   },
   "kernels_config": {
    "python": {
     "delete_cmd_postfix": "",
     "delete_cmd_prefix": "del ",
     "library": "var_list.py",
     "varRefreshCmd": "print(var_dic_list())"
    },
    "r": {
     "delete_cmd_postfix": ") ",
     "delete_cmd_prefix": "rm(",
     "library": "var_list.r",
     "varRefreshCmd": "cat(var_dic_list()) "
    }
   },
   "types_to_exclude": [
    "module",
    "function",
    "builtin_function_or_method",
    "instance",
    "_Feature"
   ],
   "window_display": false
  }
 },
 "nbformat": 4,
 "nbformat_minor": 5
}
